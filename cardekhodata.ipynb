{
  "nbformat": 4,
  "nbformat_minor": 0,
  "metadata": {
    "colab": {
      "provenance": [],
      "authorship_tag": "ABX9TyOv8bkP6kXl9jCjpSMiwQNP",
      "include_colab_link": true
    },
    "kernelspec": {
      "name": "python3",
      "display_name": "Python 3"
    },
    "language_info": {
      "name": "python"
    }
  },
  "cells": [
    {
      "cell_type": "markdown",
      "metadata": {
        "id": "view-in-github",
        "colab_type": "text"
      },
      "source": [
        "<a href=\"https://colab.research.google.com/github/saita123/vios/blob/main/cardekhodata.ipynb\" target=\"_parent\"><img src=\"https://colab.research.google.com/assets/colab-badge.svg\" alt=\"Open In Colab\"/></a>"
      ]
    },
    {
      "cell_type": "code",
      "execution_count": 15,
      "metadata": {
        "id": "_4MSUKtcagYl",
        "colab": {
          "base_uri": "https://localhost:8080/"
        },
        "outputId": "5cc5769e-d5af-4a11-b677-b03b6989e939"
      },
      "outputs": [
        {
          "output_type": "stream",
          "name": "stdout",
          "text": [
            "First few records:\n",
            "  Car_Name  Year  Selling_Price  Present_Price  Kms_Driven Fuel_Type  \\\n",
            "0     ritz  2014           3.35           5.59       27000    Petrol   \n",
            "1      sx4  2013           4.75           9.54       43000    Diesel   \n",
            "2     ciaz  2017           7.25           9.85        6900    Petrol   \n",
            "3  wagon r  2011           2.85           4.15        5200    Petrol   \n",
            "4    swift  2014           4.60           6.87       42450    Diesel   \n",
            "\n",
            "  Seller_Type Transmission  Owner  \n",
            "0      Dealer       Manual      0  \n",
            "1      Dealer       Manual      0  \n",
            "2      Dealer       Manual      0  \n",
            "3      Dealer       Manual      0  \n",
            "4      Dealer       Manual      0   \n",
            "\n",
            "1. Vehicles are present from manufacturing year 2003 to 2018.\n",
            "\n",
            "2. The lowest price to which a vehicle is sold is 0.1.\n",
            "\n",
            "3. The highest price to which a vehicle is sold is 35.0.\n",
            "\n",
            "4. There are 301 records in this data.\n",
            "\n",
            "5. There are 0 missing records in this data.\n",
            "\n",
            "6. There are 98 different vehicles present in this data.\n",
            "\n",
            "7. The most sold vehicle in this data is city.\n",
            "\n",
            "8. There are 2 CNG vehicles in this database.\n",
            "\n",
            "9. There are 106 vehicles for sale from individuals directly.\n",
            "\n",
            "10. There are 40 auto transmission vehicles in this database.\n",
            "\n",
            "11. There are 290 single person owned vehicles in this database.\n",
            "\n",
            "12. The most depreciated vehicle is land cruiser and the least depreciated vehicle is Honda Activa 4G.\n",
            "\n",
            "13. The brands of vehicles less affected by cost depreciation are: TVS Sport, Honda Activa 4G, Bajaj Avenger 150, Hero Passion X pro, Honda Dream Yuga.\n",
            "\n"
          ]
        }
      ],
      "source": [
        "\n",
        "# Importing essential packages\n",
        "import numpy as np\n",
        "import pandas as pd\n",
        "import matplotlib.pyplot as plt\n",
        "import seaborn as sns\n",
        "\n",
        "# Importing the data and taking a look at it\n",
        "data = pd.read_excel(\"/content/car_Dekho_DA.xlsx\")\n",
        "\n",
        "# Displaying the first few records\n",
        "print(\"First few records:\")\n",
        "print(data.head(), \"\\n\")\n",
        "\n",
        "# 1. From which manufacturing year to which manufacturing year vehicles are present in this data?\n",
        "min_year = data['Year'].min()\n",
        "max_year = data['Year'].max()\n",
        "print(f\"1. Vehicles are present from manufacturing year {min_year} to {max_year}.\\n\")\n",
        "\n",
        "# 2. What is the lowest price to which a vehicle is sold?\n",
        "lowest_price = data['Selling_Price'].min()\n",
        "print(f\"2. The lowest price to which a vehicle is sold is {lowest_price}.\\n\")\n",
        "\n",
        "# 3. What is the highest price to which a vehicle is sold?\n",
        "highest_price = data['Selling_Price'].max()\n",
        "print(f\"3. The highest price to which a vehicle is sold is {highest_price}.\\n\")\n",
        "\n",
        "# 4. How many records are there in this data?\n",
        "num_records = data.shape[0]\n",
        "print(f\"4. There are {num_records} records in this data.\\n\")\n",
        "\n",
        "# 5. Are there any missing records in this data?\n",
        "missing_records = data.isnull().sum().sum()\n",
        "print(f\"5. There are {missing_records} missing records in this data.\\n\")\n",
        "\n",
        "# 6. How many different vehicles are present in this data?\n",
        "num_unique_vehicles = data['Car_Name'].nunique()\n",
        "print(f\"6. There are {num_unique_vehicles} different vehicles present in this data.\\n\")\n",
        "\n",
        "# 7. Which is the most sold vehicle in this data?\n",
        "most_sold_vehicle = data['Car_Name'].mode()[0]\n",
        "print(f\"7. The most sold vehicle in this data is {most_sold_vehicle}.\\n\")\n",
        "\n",
        "# 8. Does the database include any CNG vehicle? If yes, how many of them are there?\n",
        "cng_vehicles = data[data['Fuel_Type'] == 'CNG'].shape[0]\n",
        "print(f\"8. There are {cng_vehicles} CNG vehicles in this database.\\n\")\n",
        "\n",
        "# 9. How many vehicles here are for sale from individuals directly?\n",
        "individual_sales = data[data['Seller_Type'] == 'Individual'].shape[0]\n",
        "print(f\"9. There are {individual_sales} vehicles for sale from individuals directly.\\n\")\n",
        "\n",
        "# 10. Does this database contain auto transmission vehicles? If yes, how many of them are there?\n",
        "auto_trans_vehicles = data[data['Transmission'] == 'Automatic'].shape[0]\n",
        "print(f\"10. There are {auto_trans_vehicles} auto transmission vehicles in this database.\\n\")\n",
        "\n",
        "# 11. How many single person owned vehicles are there in this database?\n",
        "single_owner_vehicles = data[data['Owner'] == 0].shape[0]\n",
        "print(f\"11. There are {single_owner_vehicles} single person owned vehicles in this database.\\n\")\n",
        "\n",
        "# 12. Which is the most and least cost depreciated vehicle in data?\n",
        "data['Depreciation'] = data['Present_Price'] - data['Selling_Price']\n",
        "most_depreciated_vehicle = data.loc[data['Depreciation'].idxmax()]['Car_Name']\n",
        "least_depreciated_vehicle = data.loc[data['Depreciation'].idxmin()]['Car_Name']\n",
        "print(f\"12. The most depreciated vehicle is {most_depreciated_vehicle} and the least depreciated vehicle is {least_depreciated_vehicle}.\\n\")\n",
        "\n",
        "# 13. Which brands of vehicles are less affected by cost depreciation?\n",
        "average_depreciation_by_brand = data.groupby('Car_Name')['Depreciation'].mean()\n",
        "less_affected_brands = average_depreciation_by_brand.nsmallest(5).index.tolist()\n",
        "print(f\"13. The brands of vehicles less affected by cost depreciation are: {', '.join(less_affected_brands)}.\\n\")"
      ]
    }
  ]
}