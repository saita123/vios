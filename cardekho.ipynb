# Importing essential packages
import numpy as np
import pandas as pd
import matplotlib.pyplot as plt
import seaborn as sns

# Importing the data and taking a look at it
data = pd.read_excel("/content/car_Dekho_DA.xlsx")

# Displaying the first few records
print("First few records:")
print(data.head(), "\n")

# 1. From which manufacturing year to which manufacturing year vehicles are present in this data?
min_year = data['Year'].min()
max_year = data['Year'].max()
print(f"1. Vehicles are present from manufacturing year {min_year} to {max_year}.\n")

# 2. What is the lowest price to which a vehicle is sold?
lowest_price = data['Selling_Price'].min()
print(f"2. The lowest price to which a vehicle is sold is {lowest_price}.\n")

# 3. What is the highest price to which a vehicle is sold?
highest_price = data['Selling_Price'].max()
print(f"3. The highest price to which a vehicle is sold is {highest_price}.\n")

# 4. How many records are there in this data?
num_records = data.shape[0]
print(f"4. There are {num_records} records in this data.\n")

# 5. Are there any missing records in this data?
missing_records = data.isnull().sum().sum()
print(f"5. There are {missing_records} missing records in this data.\n")

# 6. How many different vehicles are present in this data?
num_unique_vehicles = data['Car_Name'].nunique()
print(f"6. There are {num_unique_vehicles} different vehicles present in this data.\n")

# 7. Which is the most sold vehicle in this data?
most_sold_vehicle = data['Car_Name'].mode()[0]
print(f"7. The most sold vehicle in this data is {most_sold_vehicle}.\n")

# 8. Does the database include any CNG vehicle? If yes, how many of them are there?
cng_vehicles = data[data['Fuel_Type'] == 'CNG'].shape[0]
print(f"8. There are {cng_vehicles} CNG vehicles in this database.\n")

# 9. How many vehicles here are for sale from individuals directly?
individual_sales = data[data['Seller_Type'] == 'Individual'].shape[0]
print(f"9. There are {individual_sales} vehicles for sale from individuals directly.\n")

# 10. Does this database contain auto transmission vehicles? If yes, how many of them are there?
auto_trans_vehicles = data[data['Transmission'] == 'Automatic'].shape[0]
print(f"10. There are {auto_trans_vehicles} auto transmission vehicles in this database.\n")

# 11. How many single person owned vehicles are there in this database?
single_owner_vehicles = data[data['Owner'] == 0].shape[0]
print(f"11. There are {single_owner_vehicles} single person owned vehicles in this database.\n")

# 12. Which is the most and least cost depreciated vehicle in data?
data['Depreciation'] = data['Present_Price'] - data['Selling_Price']
most_depreciated_vehicle = data.loc[data['Depreciation'].idxmax()]['Car_Name']
least_depreciated_vehicle = data.loc[data['Depreciation'].idxmin()]['Car_Name']
print(f"12. The most depreciated vehicle is {most_depreciated_vehicle} and the least depreciated vehicle is {least_depreciated_vehicle}.\n")

# 13. Which brands of vehicles are less affected by cost depreciation?
average_depreciation_by_brand = data.groupby('Car_Name')['Depreciation'].mean()
less_affected_brands = average_depreciation_by_brand.nsmallest(5).index.tolist()
print(f"13. The brands of vehicles less affected by cost depreciation are: {', '.join(less_affected_brands)}.\n")
